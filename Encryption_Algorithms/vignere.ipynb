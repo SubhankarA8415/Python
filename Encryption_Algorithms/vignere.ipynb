{
 "cells": [
  {
   "cell_type": "code",
   "execution_count": 1,
   "id": "08ff837d",
   "metadata": {},
   "outputs": [
    {
     "name": "stdout",
     "output_type": "stream",
     "text": [
      "Enter a plain text: hello world\n",
      "Enter your key: key\n",
      "['h', 'e', 'l', 'l', 'o', ' ', 'w', 'o', 'r', 'l', 'd']\n",
      "['k', 'e', 'y', 'k', 'e', ' ', 'y', 'k', 'e', 'y', 'k']\n",
      "['r', 'i', 'j', 'v', 's', ' ', 'u', 'y', 'v', 'j', 'n']\n",
      "['h', 'e', 'l', 'l', 'o', ' ', 'w', 'o', 'r', 'l', 'd']\n"
     ]
    }
   ],
   "source": []
  },
  {
   "cell_type": "code",
   "execution_count": null,
   "id": "8c967f45",
   "metadata": {},
   "outputs": [],
   "source": [
    "def vigenere_encrypt(plain_text, key):\n",
    "    encrypted = []\n",
    "    key_index = 0\n",
    "\n",
    "    for char in plain_text:\n",
    "        if char.isalpha():\n",
    "            shift = ord(key[key_index % len(key)].lower()) - ord('a')\n",
    "            if char.islower():\n",
    "                encrypted_char = chr((ord(char) - ord('a') + shift) % 26 + ord('a'))\n",
    "            else:\n",
    "                encrypted_char = chr((ord(char) - ord('A') + shift) % 26 + ord('A'))\n",
    "            key_index += 1\n",
    "        else:\n",
    "            encrypted_char = char\n",
    "        encrypted.append(encrypted_char)\n",
    "\n",
    "    return ''.join(encrypted)\n",
    "\n",
    "\n",
    "def vigenere_decrypt(cipher_text, key):\n",
    "    decrypted = []\n",
    "    key_index = 0\n",
    "\n",
    "    for char in cipher_text:\n",
    "        if char.isalpha():\n",
    "            shift = ord(key[key_index % len(key)].lower()) - ord('a')\n",
    "            if char.islower():\n",
    "                decrypted_char = chr((ord(char) - ord('a') - shift + 26) % 26 + ord('a'))\n",
    "            else:\n",
    "                decrypted_char = chr((ord(char) - ord('A') - shift + 26) % 26 + ord('A'))\n",
    "            key_index += 1\n",
    "        else:\n",
    "            decrypted_char = char\n",
    "        decrypted.append(decrypted_char)\n",
    "\n",
    "    return ''.join(decrypted)\n",
    "\n",
    "\n",
    "# --- Main Program ---\n",
    "choice = input(\"Do you want to Encrypt or Decrypt? (e/d): \").lower()\n",
    "text = input(\"Enter the text: \")\n",
    "key = input(\"Enter the key: \")\n",
    "\n",
    "if choice == 'e':\n",
    "    result = vigenere_encrypt(text, key)\n",
    "    print(\"\\nEncrypted Text:\", result)\n",
    "elif choice == 'd':\n",
    "    result = vigenere_decrypt(text, key)\n",
    "    print(\"\\nDecrypted Text:\", result)\n",
    "else:\n",
    "    print(\"Invalid choice. Please enter 'e' for encrypt or 'd' for decrypt.\")\n"
   ]
  },
  {
   "cell_type": "code",
   "execution_count": 3,
   "id": "bb7276b5",
   "metadata": {},
   "outputs": [
    {
     "name": "stdout",
     "output_type": "stream",
     "text": [
      "Enter the text: CLVMUWPPN\n",
      "Enter your key: LAKE\n",
      "Encrypt or Decrypt?\n",
      "Type (e/d): d\n",
      "\n",
      "Decrypted Text: RLLIJWFLC\n"
     ]
    }
   ],
   "source": [
    "pt = input(\"Enter the text: \")\n",
    "key = input(\"Enter your key: \")\n",
    "choice = input('''Encrypt or Decrypt?\n",
    "Type (e/d): ''').lower()\n",
    "\n",
    "l1 = [] \n",
    "l2 = [] \n",
    "l3 = [] \n",
    "\n",
    "j = 0\n",
    "for i in range(len(pt)):\n",
    "    l1.append(pt[i])\n",
    "    if pt[i].islower():\n",
    "        l2.append(key[j % len(key)].lower())\n",
    "        j += 1\n",
    "    elif pt[i].isupper():\n",
    "        l2.append(key[j % len(key)].upper())\n",
    "        j += 1\n",
    "    else:\n",
    "        l2.append(pt[i]) \n",
    "\n",
    "if choice == 'e':\n",
    "    for i in range(len(l1)):\n",
    "        if l1[i].islower():\n",
    "            l3.append(chr(((ord(l1[i]) - 97 + ord(l2[i]) - 97) % 26) + 97))\n",
    "        elif l1[i].isupper():\n",
    "            l3.append(chr(((ord(l1[i]) - 65 + ord(l2[i]) - 65) % 26) + 65))\n",
    "        else:\n",
    "            l3.append(l1[i])\n",
    "    print(\"\\nEncrypted Text:\", ''.join(l3))\n",
    "\n",
    "elif choice == 'd':\n",
    "    for i in range(len(l1)):\n",
    "        if l1[i].islower():\n",
    "            l3.append(chr(((ord(l1[i]) - ord(l2[i]) + 26) % 26) + 97))\n",
    "        elif l1[i].isupper():\n",
    "            l3.append(chr(((ord(l1[i]) - ord(l2[i]) + 26) % 26) + 65))\n",
    "        else:\n",
    "            l3.append(l1[i])\n",
    "    print(\"\\nDecrypted Text:\", ''.join(l3))\n",
    "\n",
    "else:\n",
    "    print(\"Invalid choice! Please enter 'e' to encrypt or 'd' to decrypt.\")\n"
   ]
  },
  {
   "cell_type": "code",
   "execution_count": null,
   "id": "402f6385",
   "metadata": {},
   "outputs": [],
   "source": []
  }
 ],
 "metadata": {
  "kernelspec": {
   "display_name": "Python 3 (ipykernel)",
   "language": "python",
   "name": "python3"
  },
  "language_info": {
   "codemirror_mode": {
    "name": "ipython",
    "version": 3
   },
   "file_extension": ".py",
   "mimetype": "text/x-python",
   "name": "python",
   "nbconvert_exporter": "python",
   "pygments_lexer": "ipython3",
   "version": "3.11.3"
  }
 },
 "nbformat": 4,
 "nbformat_minor": 5
}
