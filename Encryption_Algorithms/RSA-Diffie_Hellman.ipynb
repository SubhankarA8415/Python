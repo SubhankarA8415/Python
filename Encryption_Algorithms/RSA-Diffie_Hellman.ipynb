{
 "cells": [
  {
   "cell_type": "code",
   "execution_count": 3,
   "id": "74cc67dc",
   "metadata": {},
   "outputs": [
    {
     "name": "stdout",
     "output_type": "stream",
     "text": [
      "Enter plain text: 7258\n",
      "Performing encryption\n",
      "Cipher Text: 9372950\n",
      "Performing decryption\n",
      "Plain Text: 7258\n"
     ]
    }
   ],
   "source": [
    "import random\n",
    "\n",
    "def isPrime(n):\n",
    "    for i in range(2,int(math.sqrt(n))+1):\n",
    "        if n % i == 0:\n",
    "            return False\n",
    "    return True\n",
    "\n",
    "def gcd(a,b):\n",
    "    if b == 0:\n",
    "        return a\n",
    "    return gcd(b,a%b)\n",
    "\n",
    "def generatePrime():\n",
    "    while True:\n",
    "        n = random.randint(1000,9999)\n",
    "        if isPrime(n):\n",
    "            return n\n",
    "    \n",
    "p = generatePrime()\n",
    "q = generatePrime()\n",
    "pN = (p-1)*(q-1)\n",
    "n = p*q\n",
    "e = 1\n",
    "d = 1\n",
    "\n",
    "for i in range(2,pN):\n",
    "    if gcd(i,pN) == 1:\n",
    "        e = i\n",
    "        break\n",
    "        \n",
    "for i in range(2,pN):\n",
    "    if i*e % pN == 1:\n",
    "        d = i\n",
    "        break\n",
    "\n",
    "plainText = int(input(\"Enter plain text: \"))\n",
    "print(\"Performing encryption\")\n",
    "cipherText = pow(plainText,e,n)\n",
    "print(\"Cipher Text:\",cipherText)\n",
    "\n",
    "print(\"Performing decryption\")\n",
    "plainText = pow(cipherText,d,n)\n",
    "print(\"Plain Text:\",plainText)\n"
   ]
  },
  {
   "cell_type": "code",
   "execution_count": 11,
   "id": "d3b044de",
   "metadata": {},
   "outputs": [
    {
     "name": "stdout",
     "output_type": "stream",
     "text": [
      "Enter p: 23\n",
      "Enter q: 9\n",
      "Secret shared with B: 8\n",
      "Secret shared with A: 18\n",
      "Computed secret key by B: 3\n",
      "Computed secret key by A: 3\n",
      "Key exchange successful\n"
     ]
    }
   ],
   "source": [
    "import random\n",
    "\n",
    "p = int(input(\"Enter p: \"))\n",
    "g = int(input(\"Enter q: \"))\n",
    "a = random.randint(2,p-2)\n",
    "b = random.randint(2,p-2)\n",
    "\n",
    "A = pow(g,a,p)\n",
    "B = pow(g,b,p)\n",
    "\n",
    "print(\"Secret shared with B:\",A)\n",
    "print(\"Secret shared with A:\",B)\n",
    "\n",
    "key_B = pow(A,b,p)\n",
    "print(\"Computed secret key by B:\",key_B)\n",
    "key_A = pow(B,a,p)\n",
    "print(\"Computed secret key by A:\",key_A)\n",
    "\n",
    "if key_A == key_B:\n",
    "    print(\"Key exchange successful\")\n",
    "else:\n",
    "    print(\"Key exchange not successful\")"
   ]
  },
  {
   "cell_type": "markdown",
   "id": "cf69666e",
   "metadata": {},
   "source": []
  }
 ],
 "metadata": {
  "kernelspec": {
   "display_name": "Python 3 (ipykernel)",
   "language": "python",
   "name": "python3"
  },
  "language_info": {
   "codemirror_mode": {
    "name": "ipython",
    "version": 3
   },
   "file_extension": ".py",
   "mimetype": "text/x-python",
   "name": "python",
   "nbconvert_exporter": "python",
   "pygments_lexer": "ipython3",
   "version": "3.11.3"
  }
 },
 "nbformat": 4,
 "nbformat_minor": 5
}
